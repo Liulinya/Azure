{
  "cells": [
    {
      "metadata": {},
      "cell_type": "markdown",
      "source": "# Celebrity Deaths in 2016\n\nSource: [Wikipedia - Deaths in 2016](https://en.wikipedia.org/wiki/Deaths_in_2016)\n\n#### Structure of dataset:\n- File: \"celebrity_deaths_2016.xlsx\"\n- Contains 2 sheets:\n - \"celeb_death\": contains records of deaths of famous humans and non-humans\n - \"cause_of_death\": contains the causes of the deaths (you'll need to merge it with the \"celeb_death\" sheet)\n\n#### Other information about the dataset:\n- The cause of death was not reported for all individuals\n- The dataset might include deaths that took place in other years (you'll need to ignore these records)\n- The dataset might contain duplicate records (you'll need to remove them)\n\n#### The goals of the exercise:\n- Load, merge, and clean the data\n- Explore the data and answer some simple questions\n- Run some basic analysis\n- Visualize your results"
    },
    {
      "metadata": {
        "trusted": true
      },
      "cell_type": "code",
      "source": "\"\"\"\nWe're providing most of the import statements you need for the entire exercise\n\"\"\"\n\nimport pandas as pd\nimport matplotlib.pyplot as plt \n\n%matplotlib inline",
      "execution_count": null,
      "outputs": []
    },
    {
      "metadata": {},
      "cell_type": "markdown",
      "source": "### Load, merge, and clean the data"
    },
    {
      "metadata": {
        "trusted": true
      },
      "cell_type": "code",
      "source": "\"\"\"\nLoad the \"celebrity_deaths_2016.xlsx\" data file and print the sheet names\n\"\"\"\n\nxl = pd.ExcelFile('celebrity_deaths_2016.xlsx')\nprint(xl.sheet_names)",
      "execution_count": null,
      "outputs": []
    },
    {
      "metadata": {
        "trusted": true
      },
      "cell_type": "code",
      "source": "\"\"\"\nRead the \"celeb_death\" sheet into a dataframe named \"df\"\nTake a look at the top 5 rows\n\"\"\"\n\ndf = xl.parse(\"celeb_death\")\ndf.head()",
      "execution_count": null,
      "outputs": []
    },
    {
      "metadata": {
        "trusted": true
      },
      "cell_type": "code",
      "source": "\"\"\"\nTake a look at the data types stored in each column\n\"\"\"\n\ndf.dtypes",
      "execution_count": null,
      "outputs": []
    },
    {
      "metadata": {
        "trusted": true
      },
      "cell_type": "code",
      "source": "\"\"\"\nDrop the duplicates (based on all columns) from df\n\"\"\"\n\ndf.drop_duplicates()",
      "execution_count": null,
      "outputs": []
    },
    {
      "metadata": {
        "trusted": true
      },
      "cell_type": "code",
      "source": "\"\"\"\nLook at just the names\n\"\"\"\n\ndf['name']",
      "execution_count": null,
      "outputs": []
    },
    {
      "metadata": {
        "trusted": true
      },
      "cell_type": "code",
      "source": "\"\"\"\nLook at the names and ages\n\"\"\"\n\ndf[['name', 'age']]",
      "execution_count": null,
      "outputs": []
    },
    {
      "metadata": {
        "trusted": true
      },
      "cell_type": "code",
      "source": "\"\"\"\nWhen did Yogi Berra die?\n\"\"\"\n\ndf[df['name'] == 'Yogi Berra']",
      "execution_count": null,
      "outputs": []
    },
    {
      "metadata": {
        "trusted": true
      },
      "cell_type": "code",
      "source": "\"\"\"\nWhich celebrities died after Yogi Berra?\n\"\"\"\n\ndf[df['date of death'] >= '2015-09-22']",
      "execution_count": null,
      "outputs": []
    },
    {
      "metadata": {
        "trusted": true
      },
      "cell_type": "code",
      "source": "\"\"\"\nRead the \"cause_of_death\" sheet into a dataframe named \"cause_of_death\"\nTake a look at the top 5 rows\n\"\"\"\n\ncause_of_death = xl.parse(\"cause_of_death\")\ncause_of_death.head()",
      "execution_count": null,
      "outputs": []
    },
    {
      "metadata": {
        "trusted": true
      },
      "cell_type": "code",
      "source": "\"\"\"\nDrop the duplicates (based on the \"cause_id\" column) from the cause_of_death DataFrame\n\nUse the \"subset\" argument to specify the \"cause_id\" column\n\"\"\"\n\ncause_of_death.drop_duplicates(subset = \"cause_id\")",
      "execution_count": null,
      "outputs": []
    },
    {
      "metadata": {
        "trusted": true
      },
      "cell_type": "code",
      "source": "\"\"\"\nMerge the cause_of_death DataFrame with the df DataFrame\n\nNote: There are records in df (left DataFrame) that do not have a matching record in cause_of_death (right DataFrame)\nWe want to see all records in df (left DataFrame) despite the missing matches in cause_of_death.\nThus, you want to use a \"left join\".\n\"\"\"\n\ndf = pd.merge(left=df, right=cause_of_death, how='left', left_on='cause_id', right_on='cause_id')\ndf.head(100)",
      "execution_count": null,
      "outputs": []
    },
    {
      "metadata": {},
      "cell_type": "markdown",
      "source": "### Answer some basic questions about the data"
    },
    {
      "metadata": {
        "trusted": true
      },
      "cell_type": "code",
      "source": "\"\"\"\nWe'll be doing some calculations with the age column, but it was loaded from the data file as dtype \"object\"\nSo first, we need to cast it to a numeric value\n\nThe \"errors\" argument will catch (and ignore) any records where age cannot be converted to a number\n\"\"\"\n\ndf['age'] = pd.to_numeric(df['age'], errors='coerce')",
      "execution_count": null,
      "outputs": []
    },
    {
      "metadata": {
        "trusted": true
      },
      "cell_type": "code",
      "source": "\"\"\"\nLook at the data types again\n\"\"\"\n\ndf.dtypes",
      "execution_count": null,
      "outputs": []
    },
    {
      "metadata": {
        "trusted": true
      },
      "cell_type": "code",
      "source": "\"\"\"\nWhich celebrities died when they were older than 100?\n\"\"\"\n\ndf[df['age'] > 100]",
      "execution_count": null,
      "outputs": []
    },
    {
      "metadata": {
        "trusted": true
      },
      "cell_type": "code",
      "source": "\"\"\"\nWhat was the average age of death?\n\"\"\"\n\ndf['age'].mean()",
      "execution_count": null,
      "outputs": []
    },
    {
      "metadata": {
        "trusted": true
      },
      "cell_type": "code",
      "source": "\"\"\"\nWho died the youngest and what was the cause of death?\nHint: Get the min age and find the record that has that value\n\"\"\"\n\nminage = df['age'].min()\nminage",
      "execution_count": null,
      "outputs": []
    },
    {
      "metadata": {
        "trusted": true
      },
      "cell_type": "code",
      "source": "record_minage = df['age'] == minage\ndf[record_minage]",
      "execution_count": null,
      "outputs": []
    },
    {
      "metadata": {
        "trusted": true
      },
      "cell_type": "code",
      "source": "\"\"\"\nWho died the oldest and what was the cause of death?\nHint: Get the max age and find the record that has that value\n\"\"\"\n\nmaxage = df['age'].max()\nrecord_maxage = df['age'] == maxage\ndf[record_maxage]",
      "execution_count": null,
      "outputs": []
    },
    {
      "metadata": {
        "trusted": true
      },
      "cell_type": "code",
      "source": "\"\"\"\nWe'll be running some queries based on the bio and cause_of_death columns, but they were loaded from the data file as objects\nSo first, we need to cast them to strings\n\"\"\"\n\ndf['cause of death'] = df['cause of death'].astype(str)\ndf['bio'] = df['bio'].astype(str)",
      "execution_count": null,
      "outputs": []
    },
    {
      "metadata": {
        "trusted": true
      },
      "cell_type": "code",
      "source": "\"\"\"\nWhat is total number of deaths caused by cancer?\nHint: Check if the cause_of_death is any type of (contains) cancer\n\"\"\"\n\ncancer = df[\"cause of death\"].str.contains(\"cancer\")\nlen(df[cancer])",
      "execution_count": null,
      "outputs": []
    },
    {
      "metadata": {
        "trusted": true
      },
      "cell_type": "code",
      "source": "\"\"\"\nHow many American celebrities died?\nHint: Search the bio for \"American\"\n\"\"\"\n\namerican = df[\"bio\"].str.contains('American')\namerican.sum()",
      "execution_count": null,
      "outputs": []
    },
    {
      "metadata": {},
      "cell_type": "markdown",
      "source": "### Count the number of people who died in each month of 2016\n1. Create new columns that shows which month and year each person died in\n2. Group all the entries based on the month they appeared in"
    },
    {
      "metadata": {
        "trusted": true
      },
      "cell_type": "code",
      "source": "\"\"\"\nMake a new column with the numeric month of death\n\nThis code maps a lambda function to pull out the numeric month from the date of death column\n\"\"\"\n\ndf['month'] = df['date of death'].map(lambda x: x.month)\ndf.head()",
      "execution_count": null,
      "outputs": []
    },
    {
      "metadata": {
        "trusted": true
      },
      "cell_type": "code",
      "source": "\"\"\"\nMake a new column with the year of death\nThis code maps a lambda function to pull out the year from the date of death column\n\"\"\"\n\ndf['year']  = df['date of death'].map(lambda x: x.year)\ndf.head()",
      "execution_count": null,
      "outputs": []
    },
    {
      "metadata": {
        "trusted": true
      },
      "cell_type": "code",
      "source": "\"\"\"\nOnly look at deaths that took place in 2016\n\"\"\"\n\ndf_2016 = df[df['year'] == 2016]\ndf_2016.head()",
      "execution_count": null,
      "outputs": []
    },
    {
      "metadata": {
        "trusted": true
      },
      "cell_type": "code",
      "source": "\"\"\"\nUsing a pivot table, obtain a list that contains the number of people that died in each month\n\"\"\"\n\ndf_per_month = pd.pivot_table(df_2016, index=['month'], values=['name'], aggfunc=[len])\ndf_per_month",
      "execution_count": null,
      "outputs": []
    },
    {
      "metadata": {},
      "cell_type": "markdown",
      "source": "### Visualize the number of deaths per month as a bar chart"
    },
    {
      "metadata": {
        "trusted": true
      },
      "cell_type": "code",
      "source": "\"\"\"\nHint: The df_per_month DataFrame has a simple .plot() method you can use \n\"\"\"\n\ndf_per_month.plot(kind = 'bar', figsize=(12, 6), \n       fontsize=12, legend=False, title=\"Number of Deaths per Month\")\nplt.xlabel(\"Month\")\nplt.ylabel(\"Number of deaths\")\nplt.show()",
      "execution_count": null,
      "outputs": []
    },
    {
      "metadata": {},
      "cell_type": "markdown",
      "source": "### What was the mean age for each cause of death?"
    },
    {
      "metadata": {
        "trusted": true
      },
      "cell_type": "code",
      "source": "\"\"\"\nHint: import numpy and group by 'cause of death', then get the mean\n\"\"\" \n\nimport numpy as np\ndf.groupby(['cause of death']).agg([np.mean])['age']",
      "execution_count": null,
      "outputs": []
    },
    {
      "metadata": {},
      "cell_type": "markdown",
      "source": "### What was one cause of death for celebrities who died at 50?"
    },
    {
      "metadata": {
        "trusted": true
      },
      "cell_type": "code",
      "source": "\"\"\"\nHint: import random and randomly select a cause of death for celebrities who died at 50\n\"\"\"\n\n#create a series for celebrities who died at 50\nage50 = df[\"age\"] == 50\nage50",
      "execution_count": null,
      "outputs": []
    },
    {
      "metadata": {
        "trusted": true
      },
      "cell_type": "code",
      "source": "#create a series for celebrities where we know the cause of death\ncauseofdeathexists = df[\"cause of death\"] != 'nan'\ncauseofdeathexists",
      "execution_count": null,
      "outputs": []
    },
    {
      "metadata": {
        "trusted": true
      },
      "cell_type": "code",
      "source": "#celebrities who dies at 50 and where we know the cause of death\natage50 = df[age50 & causeofdeathexists]\natage50",
      "execution_count": null,
      "outputs": []
    },
    {
      "metadata": {
        "trusted": true
      },
      "cell_type": "code",
      "source": "import random\n\nrand_int = random.randint(0, len(atage50) - 1)\nrand_cause = atage50[rand_int:rand_int + 1]\nrand_cause",
      "execution_count": null,
      "outputs": []
    },
    {
      "metadata": {},
      "cell_type": "markdown",
      "source": "### Make a histogram that plots the number of deaths per nationality\n1. Create a new column that identifies the nationality of each celebrity, extracting the first word from the bio\n2. Make a histogram that plots the number of deaths per nationality"
    },
    {
      "metadata": {
        "trusted": true
      },
      "cell_type": "code",
      "source": "\"\"\"\nGet the nationality from the bio.\n\"\"\"\n\nnationality = df['bio'].str.split()\ndf['nationality'] = nationality.apply(lambda x: x[0])\ndf.head()",
      "execution_count": null,
      "outputs": []
    },
    {
      "metadata": {
        "trusted": true
      },
      "cell_type": "code",
      "source": "\"\"\"\nMake a histogram that plots the number of deaths per nationality\nOnly include nationalities with more than 50 deaths \n\"\"\"\n\ncountries = df['nationality'].value_counts()\ncountries",
      "execution_count": null,
      "outputs": []
    },
    {
      "metadata": {
        "trusted": true
      },
      "cell_type": "code",
      "source": "unlucky_countries = countries[countries > 50]\nunlucky_countries",
      "execution_count": null,
      "outputs": []
    },
    {
      "metadata": {
        "trusted": true
      },
      "cell_type": "code",
      "source": "ax = unlucky_countries.plot(kind = \"bar\", figsize = (15, 5), \n                          title = \"Nationality of celebrities who died in 2016\", \n                          fontsize= 15)\nax.set_xlabel(\"Nationality\")\nax.set_ylabel(\"Death Counts\")\nplt.show()",
      "execution_count": null,
      "outputs": []
    }
  ],
  "metadata": {
    "kernelspec": {
      "name": "python3",
      "display_name": "Python 3",
      "language": "python"
    },
    "language_info": {
      "mimetype": "text/x-python",
      "nbconvert_exporter": "python",
      "name": "python",
      "file_extension": ".py",
      "version": "3.5.4",
      "pygments_lexer": "ipython3",
      "codemirror_mode": {
        "version": 3,
        "name": "ipython"
      }
    }
  },
  "nbformat": 4,
  "nbformat_minor": 2
}
