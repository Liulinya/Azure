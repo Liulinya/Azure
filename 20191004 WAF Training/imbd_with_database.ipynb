{
  "cells": [
    {
      "metadata": {},
      "cell_type": "markdown",
      "source": "### Import and clean data"
    },
    {
      "metadata": {
        "trusted": true
      },
      "cell_type": "code",
      "source": "\"\"\" \nLoad and read the 'imbd.xlsx' file. Read the 'imbd' sheet into a DataFrame named df.\n\n- What are the dimensions of the DataFrame?\n- What are the column titles and the types of data in each?\n- Examine the first 10 rows of data.\n\"\"\"\n\nimport pandas as pd\n\nxls = pd.ExcelFile('imdb.xlsx')\ndf = xls.parse('imdb')\ndf.shape",
      "execution_count": null,
      "outputs": []
    },
    {
      "metadata": {
        "trusted": true
      },
      "cell_type": "code",
      "source": "df.dtypes",
      "execution_count": null,
      "outputs": []
    },
    {
      "metadata": {
        "trusted": true
      },
      "cell_type": "code",
      "source": "df.head(10)",
      "execution_count": null,
      "outputs": []
    },
    {
      "metadata": {
        "trusted": true
      },
      "cell_type": "code",
      "source": "\"\"\"\nImport the \"directors\" and \"countries\" sheets into their own DataFrames.\n\nCheck the \"Directors\" sheet for duplicates based on the \"id\" column.\nRemove duplicates.\n\"\"\"\n\ndf_directors = xls.parse('directors')\ndf_directors[\"id\"].value_counts()",
      "execution_count": null,
      "outputs": []
    },
    {
      "metadata": {
        "trusted": true
      },
      "cell_type": "code",
      "source": "df_directors = df_directors.drop_duplicates()\ndf_directors.shape",
      "execution_count": null,
      "outputs": []
    },
    {
      "metadata": {
        "trusted": true
      },
      "cell_type": "code",
      "source": "df_directors[\"id\"].value_counts()",
      "execution_count": null,
      "outputs": []
    },
    {
      "metadata": {
        "trusted": true
      },
      "cell_type": "code",
      "source": "df_countries = xls.parse('countries')\ndf_countries.shape",
      "execution_count": null,
      "outputs": []
    },
    {
      "metadata": {
        "trusted": true
      },
      "cell_type": "code",
      "source": "\"\"\" \nJoin the data with an \"inner join\".\nDo this by merging into df.\n\"\"\"\n\ndf = pd.merge(left=df, right=df_countries, \n              how='inner', left_on='country_id', \n              right_on='id')",
      "execution_count": null,
      "outputs": []
    },
    {
      "metadata": {
        "trusted": true
      },
      "cell_type": "code",
      "source": "\"\"\" \nJoin the data with an \"inner join\".\nDo this by merging into df.\n\"\"\"\n\ndf = pd.merge(left=df, right=df_directors, \n              how='inner', left_on='director_id', \n              right_on='id')",
      "execution_count": null,
      "outputs": []
    },
    {
      "metadata": {
        "trusted": true
      },
      "cell_type": "code",
      "source": "df.shape",
      "execution_count": null,
      "outputs": []
    },
    {
      "metadata": {
        "trusted": true
      },
      "cell_type": "code",
      "source": "df.head()",
      "execution_count": null,
      "outputs": []
    },
    {
      "metadata": {
        "trusted": true
      },
      "cell_type": "code",
      "source": "\"\"\" \nPrint the first ten rows of movie titles. \nThere's an extra character. \nRemove it from the data using str.replace.\n\"\"\"\n\ndf[\"movie_title\"][:10]",
      "execution_count": null,
      "outputs": []
    },
    {
      "metadata": {
        "trusted": true
      },
      "cell_type": "code",
      "source": "df[\"movie_title\"] = df[\"movie_title\"].str.replace('Ê','')\ndf[\"movie_title\"][:10]",
      "execution_count": null,
      "outputs": []
    },
    {
      "metadata": {
        "trusted": true
      },
      "cell_type": "code",
      "source": "\"\"\"\nGet the summary statistics for imdb_score and gross.\n\"\"\"\n\nscore_gross = [\"imdb_score\", \"gross\"]\ndf[score_gross].describe()",
      "execution_count": null,
      "outputs": []
    },
    {
      "metadata": {},
      "cell_type": "markdown",
      "source": "### Import and store in database"
    },
    {
      "metadata": {
        "trusted": true
      },
      "cell_type": "code",
      "source": "#import for connecting to Azure database\nimport pyodbc\n\n#connect to Azure database\n#insert server info and credentials for your database\n\nserver = '<INSERT SERVER NAME>'\ndatabase = '<INSERT DATABASE NAME>'\nusername = '<INSERT USERNAME>'\npassword = \"<INSERT PASSWORD>\"\n\ndriver= '{ODBC Driver 17 for SQL Server}'\ncnxn = pyodbc.connect('DRIVER='+driver+';SERVER='+server+';PORT=1433;DATABASE='+database+';UID='+username+';PWD='+ password)\n\n#create cursor for executing queries\ncursor = cnxn.cursor()",
      "execution_count": null,
      "outputs": []
    },
    {
      "metadata": {
        "trusted": true
      },
      "cell_type": "code",
      "source": "#define function to iterate over db cursor and print each record\ndef cursor_fetch(cursor):\n    row = cursor.fetchone()\n    while row:\n        print (row)\n        row = cursor.fetchone()",
      "execution_count": null,
      "outputs": []
    },
    {
      "metadata": {
        "trusted": true
      },
      "cell_type": "code",
      "source": "#get all available tables in database\ncursor.execute('''SELECT * FROM INFORMATION_SCHEMA.TABLES;''')\ncursor_fetch(cursor)",
      "execution_count": null,
      "outputs": []
    },
    {
      "metadata": {
        "trusted": true
      },
      "cell_type": "code",
      "source": "#create imdb table\ncursor.execute('''CREATE TABLE imdb (\n    [movie_title] VARCHAR(200),\n    [director_id] INT,\n    [country_id] INT,\n    [content_rating] VARCHAR(200),\n    [title_year] INT,\n    [imdb_score] FLOAT,\n    [gross] INT,\n    [duration] INT,\n    [country] VARCHAR(200),\n    [director_name] VARCHAR(200)\n);''')",
      "execution_count": null,
      "outputs": []
    },
    {
      "metadata": {
        "trusted": true
      },
      "cell_type": "code",
      "source": "#query new table\ncursor.execute('SELECT * FROM imdb;')\ncursor_fetch(cursor)",
      "execution_count": null,
      "outputs": []
    },
    {
      "metadata": {
        "trusted": true
      },
      "cell_type": "code",
      "source": "#get first 5 rows of data in dataframe\ndf_head = df.head()\ndf_head",
      "execution_count": null,
      "outputs": []
    },
    {
      "metadata": {
        "trusted": true
      },
      "cell_type": "code",
      "source": "#insert first 5 rows of data into new table as test\nfor index, row in df_head.iterrows():\n    cursor.execute(\"INSERT INTO imdb VALUES (?,?,?,?,?,?,?,?,?,?);\", \n        row['movie_title'], \n        row['director_id'], \n        row['country_id'],\n        row['content_rating'],\n        row['title_year'],\n        row['imdb_score'],\n        row['gross'],\n        row['duration'],\n        row['country'],\n        row['director_name']\n    )",
      "execution_count": null,
      "outputs": []
    },
    {
      "metadata": {
        "trusted": true
      },
      "cell_type": "code",
      "source": "#get count of rows\ncursor.execute('''SELECT COUNT(*) cnt from imdb;''')\ncursor_fetch(cursor)",
      "execution_count": null,
      "outputs": []
    },
    {
      "metadata": {
        "trusted": true
      },
      "cell_type": "code",
      "source": "#get entire rows\ncursor.execute('''SELECT * from imdb;''')\ncursor_fetch(cursor)",
      "execution_count": null,
      "outputs": []
    },
    {
      "metadata": {
        "trusted": true
      },
      "cell_type": "code",
      "source": "#get specific columns\ncursor.execute('''SELECT movie_title from imdb;''')\ncursor_fetch(cursor)",
      "execution_count": null,
      "outputs": []
    },
    {
      "metadata": {
        "trusted": true
      },
      "cell_type": "code",
      "source": "#get specific columns and filter rows\ncursor.execute('''SELECT movie_title, title_year from imdb WHERE director_name = 'Francis Ford Coppola';''')\ncursor_fetch(cursor)",
      "execution_count": null,
      "outputs": []
    },
    {
      "metadata": {
        "trusted": true
      },
      "cell_type": "code",
      "source": "#get specific columns and filter rows\ncursor.execute('''SELECT movie_title, gross from imdb WHERE gross > 78000000;''')\ncursor_fetch(cursor)",
      "execution_count": null,
      "outputs": []
    },
    {
      "metadata": {
        "trusted": true
      },
      "cell_type": "code",
      "source": "#get top 2 rows from table and store as dataframe\n#using pandas read_sql method\ndf1 = pd.read_sql('''SELECT TOP 2 * FROM imdb;''', cnxn)\ndf1",
      "execution_count": null,
      "outputs": []
    },
    {
      "metadata": {
        "trusted": true
      },
      "cell_type": "code",
      "source": "#empty sql table\ncursor.execute(\"DELETE FROM imdb;\") ",
      "execution_count": null,
      "outputs": []
    },
    {
      "metadata": {
        "trusted": true
      },
      "cell_type": "code",
      "source": "#insert all rows of data into new table \nfor index, row in df.iterrows():\n    cursor.execute(\"INSERT INTO imdb VALUES (?,?,?,?,?,?,?,?,?,?);\", \n        row['movie_title'], \n        row['director_id'], \n        row['country_id'],\n        row['content_rating'],\n        row['title_year'],\n        row['imdb_score'],\n        row['gross'],\n        row['duration'],\n        row['country'],\n        row['director_name']\n    )",
      "execution_count": null,
      "outputs": []
    },
    {
      "metadata": {
        "trusted": true
      },
      "cell_type": "code",
      "source": "#get top 50 earning movies (based on gross) and store as dataframe\ndf1 = pd.read_sql('''SELECT TOP 50 * FROM imdb ORDER BY gross DESC;''', cnxn)\ndf1",
      "execution_count": null,
      "outputs": []
    },
    {
      "metadata": {
        "trusted": true
      },
      "cell_type": "code",
      "source": "#create new table\ncursor.execute('''CREATE TABLE imdb_top50 (\n    [movie_title] VARCHAR(200),\n    [director_id] INT,\n    [country_id] INT,\n    [content_rating] VARCHAR(200),\n    [title_year] INT,\n    [imdb_score] FLOAT,\n    [gross] INT,\n    [duration] INT,\n    [country] VARCHAR(200),\n    [director_name] VARCHAR(200)\n)''')",
      "execution_count": null,
      "outputs": []
    },
    {
      "metadata": {
        "trusted": true
      },
      "cell_type": "code",
      "source": "#insert entire dataset into table\nfor index, row in df1.iterrows():\n    cursor.execute(\"INSERT INTO imdb_top50 VALUES (?,?,?,?,?,?,?,?,?,?)\", \n        row['movie_title'], \n        row['director_id'], \n        row['country_id'],\n        row['content_rating'],\n        row['title_year'],\n        row['imdb_score'],\n        row['gross'],\n        row['duration'],\n        row['country'],\n        row['director_name']\n    )",
      "execution_count": null,
      "outputs": []
    },
    {
      "metadata": {
        "trusted": true
      },
      "cell_type": "code",
      "source": "#get all movies\ndf2 = pd.read_sql('''SELECT * FROM imdb;''', cnxn)\ndf2",
      "execution_count": null,
      "outputs": []
    },
    {
      "metadata": {},
      "cell_type": "markdown",
      "source": "### Data visualization"
    },
    {
      "metadata": {
        "trusted": true
      },
      "cell_type": "code",
      "source": "\"\"\"\nMake a simple scatter plot comparing gross to imdb_score for movies released in or after 2000.\nIt may be useful to scale the axis demarking gross.\n\"\"\"\n\n#get movies released in or after 2000\ndf_2000 = df2[df2['title_year'] >= 2000]\ndf_2000",
      "execution_count": null,
      "outputs": []
    },
    {
      "metadata": {
        "trusted": true
      },
      "cell_type": "code",
      "source": "#create series with movie imdb score\nx1 = df_2000['imdb_score']\nx1",
      "execution_count": null,
      "outputs": []
    },
    {
      "metadata": {
        "trusted": true
      },
      "cell_type": "code",
      "source": "#you'll see the \"gross\" column is in millions\ndf_2000['gross'].head()",
      "execution_count": null,
      "outputs": []
    },
    {
      "metadata": {
        "trusted": true
      },
      "cell_type": "code",
      "source": "#create series with gross value (in millions)\nx2 = df_2000['gross'] / (10**6)\nx2",
      "execution_count": null,
      "outputs": []
    },
    {
      "metadata": {
        "trusted": true
      },
      "cell_type": "code",
      "source": "import matplotlib.pyplot as plt\n\n%pylab inline",
      "execution_count": null,
      "outputs": []
    },
    {
      "metadata": {
        "trusted": true
      },
      "cell_type": "code",
      "source": "#create scatter plot for x1 and x2\nplt.scatter(x2, x1, marker='o', color='b', alpha=0.7,\n           s=50)\n\nplt.xlabel('Gross (Millions)')\nplt.ylabel('Rating')\nplt.legend(loc='best')\n\nplt.show()",
      "execution_count": null,
      "outputs": []
    },
    {
      "metadata": {},
      "cell_type": "markdown",
      "source": "### Other data exploration"
    },
    {
      "metadata": {
        "scrolled": true,
        "trusted": true
      },
      "cell_type": "code",
      "source": "\"\"\" \nWho is the director with the most movies?\n\"\"\"\n\n#value_counts() automatically sorts in desc order\n#take the first record\ndf2[\"director_name\"].value_counts()[0:1]",
      "execution_count": null,
      "outputs": []
    },
    {
      "metadata": {
        "trusted": true
      },
      "cell_type": "code",
      "source": "\"\"\"\nList all of this director's movies and their ratings.\n\"\"\"\n\nnolan = df2[\"director_name\"] == \"Christopher Nolan\"\ndf[nolan][[\"movie_title\",\"imdb_score\"]]",
      "execution_count": null,
      "outputs": []
    },
    {
      "metadata": {
        "trusted": true
      },
      "cell_type": "code",
      "source": "\"\"\"\nWhat is this director's average rating? \n\"\"\"\n\ndf2[nolan][\"imdb_score\"].mean()",
      "execution_count": null,
      "outputs": []
    },
    {
      "metadata": {},
      "cell_type": "markdown",
      "source": "### Data visualization"
    },
    {
      "metadata": {
        "scrolled": true,
        "trusted": true
      },
      "cell_type": "code",
      "source": "\"\"\"\nUsing numpy and pyplot, make an overlapping histogram that compares the imbd scores between R-Rated movies and PG-13 movies.\nDescribe your plot. \n\"\"\"\n\ndf_R = df2[df2[\"content_rating\"]=='R']\ndf_PG13 = df2[df2[\"content_rating\"]=='PG-13']\n\nseries_R = df_R[\"imdb_score\"]\nseries_PG13 = df_PG13[\"imdb_score\"]\n\nseries_PG13",
      "execution_count": null,
      "outputs": []
    },
    {
      "metadata": {
        "trusted": true
      },
      "cell_type": "code",
      "source": "import numpy as np\nimport matplotlib.pyplot as plt\n\nplt.hist([series_R, series_PG13], alpha=0.7, color=['red', 'blue'], label=['R-Rated Movies', 'PG-13 Movies'], bins='auto')\n\nplt.xlabel('IMDB Score')\nplt.ylabel('Count')\n\nplt.legend(loc='best')\nplt.title(\"Score Distribution of R-Rated & PG-13 Movies\")\n\nplt.show() ",
      "execution_count": null,
      "outputs": []
    },
    {
      "metadata": {},
      "cell_type": "markdown",
      "source": "### Close database connection"
    },
    {
      "metadata": {
        "trusted": true
      },
      "cell_type": "code",
      "source": "#close cursor and db connection\ncursor.close()\ncnxn.close()",
      "execution_count": null,
      "outputs": []
    }
  ],
  "metadata": {
    "anaconda-cloud": {},
    "kernelspec": {
      "name": "python3",
      "display_name": "Python 3",
      "language": "python"
    },
    "language_info": {
      "mimetype": "text/x-python",
      "nbconvert_exporter": "python",
      "name": "python",
      "file_extension": ".py",
      "version": "3.5.4",
      "pygments_lexer": "ipython3",
      "codemirror_mode": {
        "version": 3,
        "name": "ipython"
      }
    }
  },
  "nbformat": 4,
  "nbformat_minor": 2
}